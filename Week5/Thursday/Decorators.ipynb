{
 "cells": [
  {
   "attachments": {},
   "cell_type": "markdown",
   "metadata": {},
   "source": [
    "# Decorators\n",
    "- Basically functions that are passed functions to return functions\n",
    "- ????\n",
    " "
   ]
  },
  {
   "cell_type": "code",
   "execution_count": 14,
   "metadata": {},
   "outputs": [],
   "source": [
    "def says_something(name, message):\n",
    "    return f\"{name}: {message}\"\n",
    "\n",
    "\n",
    "def says_something_confusing(func, *args, **kwargs):\n",
    "    return func(*args, **kwargs) + \"... I think, but idk.\"\n"
   ]
  },
  {
   "cell_type": "code",
   "execution_count": 15,
   "metadata": {},
   "outputs": [
    {
     "data": {
      "text/plain": [
       "'Paul: I think I will go to the mall'"
      ]
     },
     "execution_count": 15,
     "metadata": {},
     "output_type": "execute_result"
    }
   ],
   "source": [
    "says_something(\"Paul\", \"I think I will go to the mall\")"
   ]
  },
  {
   "cell_type": "code",
   "execution_count": 16,
   "metadata": {},
   "outputs": [
    {
     "data": {
      "text/plain": [
       "'Paul: I think I will go to the mall... I think, but idk.'"
      ]
     },
     "execution_count": 16,
     "metadata": {},
     "output_type": "execute_result"
    }
   ],
   "source": [
    "says_something_confusing(says_something, \"Paul\", \"I think I will go to the mall\")"
   ]
  },
  {
   "attachments": {},
   "cell_type": "markdown",
   "metadata": {},
   "source": [
    "# Args and Kwargs\n",
    "\n",
    "-  sometimes we want to pass as many arguments or keyword arguments as possible to the function and handle all of them"
   ]
  },
  {
   "cell_type": "code",
   "execution_count": 20,
   "metadata": {},
   "outputs": [
    {
     "data": {
      "text/plain": [
       "123240"
      ]
     },
     "execution_count": 20,
     "metadata": {},
     "output_type": "execute_result"
    }
   ],
   "source": [
    "def add(*args):\n",
    "    s = 0\n",
    "    for arg in args:\n",
    "        s += arg \n",
    "    return s\n",
    "\n",
    "add(1, 2, 3, 123123, 111)"
   ]
  },
  {
   "cell_type": "code",
   "execution_count": 21,
   "metadata": {},
   "outputs": [
    {
     "name": "stdout",
     "output_type": "stream",
     "text": [
      "key1: val1\n",
      "key2: val2\n",
      "key3: val3\n"
     ]
    }
   ],
   "source": [
    "def print_as_dict(**kwargs):\n",
    "    for key in kwargs:\n",
    "        print(f\"{key}: {kwargs[key]}\")\n",
    "        \n",
    "print_as_dict(\n",
    "    key1=\"val1\",\n",
    "    key2=\"val2\",\n",
    "    key3=\"val3\",\n",
    ")"
   ]
  },
  {
   "attachments": {},
   "cell_type": "markdown",
   "metadata": {},
   "source": [
    "# Back to decorators"
   ]
  },
  {
   "cell_type": "code",
   "execution_count": 22,
   "metadata": {},
   "outputs": [],
   "source": [
    "def says_something(name, message):\n",
    "    return f\"{name}: {message}\"\n",
    "\n",
    "\n",
    "def confuse_it(f):\n",
    "    \n",
    "    def new_f(*args, **kwargs):\n",
    "        return f(*args, **kwargs) + \"... I think, but idk.\"\n",
    "\n",
    "    return new_f"
   ]
  },
  {
   "cell_type": "code",
   "execution_count": 25,
   "metadata": {},
   "outputs": [
    {
     "data": {
      "text/plain": [
       "'Erica: I will be going to LA... I think, but idk.'"
      ]
     },
     "execution_count": 25,
     "metadata": {},
     "output_type": "execute_result"
    }
   ],
   "source": [
    "@confuse_it\n",
    "def says_something(name, message):\n",
    "    return f\"{name}: {message}\"\n",
    "\n",
    "says_something(\"Erica\", \"I will be going to LA\")"
   ]
  },
  {
   "attachments": {},
   "cell_type": "markdown",
   "metadata": {},
   "source": [
    "# A logging decorator"
   ]
  },
  {
   "cell_type": "code",
   "execution_count": 28,
   "metadata": {},
   "outputs": [
    {
     "data": {
      "text/plain": [
       "'sum'"
      ]
     },
     "execution_count": 28,
     "metadata": {},
     "output_type": "execute_result"
    }
   ],
   "source": [
    "f = np.sum \n",
    "f.__name__"
   ]
  },
  {
   "cell_type": "code",
   "execution_count": 36,
   "metadata": {},
   "outputs": [],
   "source": [
    "\n",
    "def log(f):\n",
    "    logfile = \"logs.txt\"\n",
    "    def new_f(*args, **kwargs):\n",
    "        with open(logfile, \"a\") as handle:\n",
    "            handle.write(f\"Called function {f.__name__} with args: {args} and kwargs: {kwargs}\\n\")\n",
    "        return f(*args, **kwargs)\n",
    "        \n",
    "    return new_f"
   ]
  },
  {
   "cell_type": "code",
   "execution_count": 38,
   "metadata": {},
   "outputs": [
    {
     "data": {
      "text/plain": [
       "3"
      ]
     },
     "execution_count": 38,
     "metadata": {},
     "output_type": "execute_result"
    }
   ],
   "source": [
    "@log\n",
    "def add(a, b):\n",
    "    return a+b\n",
    "\n",
    "add(2, 1)    "
   ]
  },
  {
   "cell_type": "code",
   "execution_count": 39,
   "metadata": {},
   "outputs": [],
   "source": [
    "import numpy as np\n",
    "import matplotlib.pyplot as plt\n",
    "\n",
    "@log\n",
    "def koch_snowflake(order, scale=10, figsize=(8, 8), dpi=300):\n",
    "    \"\"\"\n",
    "    Source: https://matplotlib.org/stable/gallery/lines_bars_and_markers/fill.html#sphx-glr-gallery-lines-bars-and-markers-fill-py\n",
    "    Return two lists x, y of point coordinates of the Koch snowflake.\n",
    "\n",
    "    Parameters\n",
    "    ----------\n",
    "    order : int\n",
    "        The recursion depth.\n",
    "    scale : float\n",
    "        The extent of the snowflake (edge length of the base triangle).\n",
    "    \"\"\"\n",
    "    def _koch_snowflake_complex(order):\n",
    "        if order == 0:\n",
    "            # initial triangle\n",
    "            angles = np.array([0, 120, 240]) + 90\n",
    "            return scale / np.sqrt(3) * np.exp(np.deg2rad(angles) * 1j)\n",
    "        else:\n",
    "            ZR = 0.5 - 0.5j * np.sqrt(3) / 3\n",
    "\n",
    "            p1 = _koch_snowflake_complex(order - 1)  # start points\n",
    "            p2 = np.roll(p1, shift=-1)  # end points\n",
    "            dp = p2 - p1  # connection vectors\n",
    "\n",
    "            new_points = np.empty(len(p1) * 4, dtype=np.complex128)\n",
    "            new_points[::4] = p1\n",
    "            new_points[1::4] = p1 + dp / 3\n",
    "            new_points[2::4] = p1 + dp * ZR\n",
    "            new_points[3::4] = p1 + dp / 3 * 2\n",
    "            return new_points\n",
    "\n",
    "    points = _koch_snowflake_complex(order)\n",
    "    x, y = points.real, points.imag\n",
    "    plt.figure(figsize=figsize, dpi=dpi)\n",
    "    plt.axis('equal')\n",
    "    plt.fill(x, y)\n",
    "    plt.show()"
   ]
  },
  {
   "cell_type": "code",
   "execution_count": 41,
   "metadata": {},
   "outputs": [
    {
     "data": {
      "image/png": "[encoded data removed]",
      "text/plain": [
       "<Figure size 900x900 with 1 Axes>"
      ]
     },
     "metadata": {
      "needs_background": "light"
     },
     "output_type": "display_data"
    }
   ],
   "source": [
    "koch_snowflake(2, scale=10, figsize=(3, 3), dpi=300)"
   ]
  },
  {
   "cell_type": "code",
   "execution_count": null,
   "metadata": {},
   "outputs": [],
   "source": []
  }
 ],
 "metadata": {
  "kernelspec": {
   "display_name": "base",
   "language": "python",
   "name": "python3"
  },
  "language_info": {
   "codemirror_mode": {
    "name": "ipython",
    "version": 3
   },
   "file_extension": ".py",
   "mimetype": "text/x-python",
   "name": "python",
   "nbconvert_exporter": "python",
   "pygments_lexer": "ipython3",
   "version": "3.8.8"
  },
  "orig_nbformat": 4,
  "vscode": {
   "interpreter": {
    "hash": "6e6f8e20344c5f04a7eec9ea306da8be509b6d12a61dca7dc24c9a33598420eb"
   }
  }
 },
 "nbformat": 4,
 "nbformat_minor": 2
}
