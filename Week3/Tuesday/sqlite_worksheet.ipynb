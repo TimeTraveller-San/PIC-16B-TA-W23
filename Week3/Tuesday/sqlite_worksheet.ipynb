{
 "cells": [
  {
   "cell_type": "markdown",
   "metadata": {},
   "source": [
    "# Database Questions\n",
    "\n",
    "*This worksheet was originally designed by [Erin George](https://www.math.ucla.edu/~egeo/) (Department of Mathematics, UCLA). It has been subsequently revised by later TAs and instructors.*\n",
    "\n",
    "Today, we will be working with SQLite3 and Pandas to gain some practice working with large datasets.\n",
    "\n",
    "Of course, the first thing we need to do is import our modules:"
   ]
  },
  {
   "cell_type": "code",
   "execution_count": null,
   "metadata": {},
   "outputs": [],
   "source": [
    "import sqlite3\n",
    "import pandas as pd\n",
    "import matplotlib.pyplot as plt # optional, in case we want to plot"
   ]
  },
  {
   "cell_type": "markdown",
   "metadata": {},
   "source": [
    "The dataset we will be working with is the US Wildfires dataset available on [kaggle](https://www.kaggle.com/rtatman/188-million-us-wildfires).  Downloading it from there requires a kaggle account.  You can either create a kaggle account or you can go on CCLE, where I've uploaded it.  Either way, put the database (.sqlite file) in the same directory as this worksheet, then run the following code block:"
   ]
  },
  {
   "cell_type": "code",
   "execution_count": null,
   "metadata": {},
   "outputs": [],
   "source": [
    "conn = sqlite3.connect('FPA_FOD_20170508.sqlite')"
   ]
  },
  {
   "cell_type": "markdown",
   "metadata": {},
   "source": [
    "A brief summary of the dataset: the data contains information on US wildfires between the years 1992 to 2015.  Each fire has information associated with it, such as how big it is, where it started, when it started, and so on.\n",
    "\n",
    "This database contains A LOT of information:"
   ]
  },
  {
   "cell_type": "code",
   "execution_count": null,
   "metadata": {},
   "outputs": [],
   "source": [
    "cursor = conn.cursor()\n",
    "cursor.execute(\"SELECT name FROM sqlite_master WHERE type='table'\")\n",
    "print(cursor.fetchall())"
   ]
  },
  {
   "cell_type": "markdown",
   "metadata": {},
   "source": [
    "Fortunately, almost all the information we need is in the 'Fires' table!\n",
    "\n",
    "Unfortunately, that means we wouldn't get any practice using joins.  Let's modify our data so that we split some information between separate tables in a reasonable way.\n",
    "\n",
    "The code below is new, but it is just the command to create new tables from SELECT commands and the command to drop a table.  Once you run the code below, comment it out.  This will modify the database file and generate an error if the modification has already been made."
   ]
  },
  {
   "cell_type": "code",
   "execution_count": null,
   "metadata": {},
   "outputs": [],
   "source": [
    "q = cursor.execute(\"CREATE TABLE fire_sizes AS SELECT FOD_ID, FIRE_SIZE, FIRE_SIZE_CLASS FROM Fires;\")\n",
    "q = cursor.execute(\"CREATE TABLE fire_times AS SELECT FOD_ID, FIRE_YEAR, DISCOVERY_DATE, DISCOVERY_DOY, DISCOVERY_TIME, CONT_DATE, CONT_DOY, CONT_TIME FROM Fires;\")\n",
    "q = cursor.execute(\"CREATE TABLE fire_locs AS SELECT FOD_ID, LONGITUDE, LATITUDE, COUNTY, STATE FROM Fires;\")\n",
    "q = cursor.execute(\"CREATE TABLE fire_causes AS SELECT FOD_ID, STAT_CAUSE_CODE, STAT_CAUSE_DESCR FROM Fires;\")\n",
    "q = cursor.execute(\"DROP TABLE Fires;\")"
   ]
  },
  {
   "cell_type": "markdown",
   "metadata": {},
   "source": [
    "The tables now are `fire_sizes`, `fire_times`, `fire_locs` and `fire_causes`.  These tables contain the following information, organized by `FOD_ID`, which uniquely identifies each fire:\n",
    "- `fire_size`: The size of the fire, in acres.  Also, the fire size class, which is a classification used to group up fires by size.\n",
    "- `fire_times`: The date and time the fire was discovered and then controlled.  Also, the year the fire took place.\n",
    "- `fire_locs`: The state, county, longitude, and latitude of the fire (where it started).\n",
    "- `fire_causes`: The cause of each fire, as a code and a description.\n",
    "\n",
    "Let's get some intial information from this table.  For example, we could ask the question \"how many fires in this dataset were from California?\""
   ]
  },
  {
   "cell_type": "code",
   "execution_count": null,
   "metadata": {},
   "outputs": [],
   "source": []
  },
  {
   "cell_type": "markdown",
   "metadata": {},
   "source": [
    "Alternatively, we could ask a question such as \"how many fires in this dataset happened since the year 2000?\""
   ]
  },
  {
   "cell_type": "code",
   "execution_count": null,
   "metadata": {},
   "outputs": [],
   "source": []
  },
  {
   "cell_type": "markdown",
   "metadata": {},
   "source": [
    "Now that we've split our data into multiple tables, some questions require information in two tables.  For example, \"how many fires in this dataset happened in California since 2000?\""
   ]
  },
  {
   "cell_type": "code",
   "execution_count": null,
   "metadata": {},
   "outputs": [],
   "source": []
  },
  {
   "cell_type": "markdown",
   "metadata": {},
   "source": [
    "We can actually do the above in SQL itself with a clever choice of an accumulation function (COUNT):"
   ]
  },
  {
   "cell_type": "code",
   "execution_count": null,
   "metadata": {},
   "outputs": [],
   "source": []
  },
  {
   "cell_type": "markdown",
   "metadata": {},
   "source": [
    "## Group Questions"
   ]
  },
  {
   "cell_type": "markdown",
   "metadata": {},
   "source": [
    "Let's ask a more complicated question.  Below is a list of three questions we can ask with this dataset.  You can decide which of the three questions you'd like to answer. In discussion, you'll then form groups of 2-3 people to work together on that question. These questions are intentionally open-ended, so write whatever code or do whatever data analysis you feel is necessary to answer the question.  Each question will have a few different subquestions to get you thinking of ideas: you can do any or all of them.  If your group finishes your question, go ahead and tackle another one!\n",
    "\n",
    "Lastly, try to do the questions with as little non-SQL code as possible!  It's okay if you need more than just SQL, but you should be able to do at least one JOIN, GROUP BY, and accumulation in SQL before you do anything with Pandas to answer the subquestions."
   ]
  },
  {
   "cell_type": "markdown",
   "metadata": {},
   "source": [
    "**Question 1:** How has the intensity of the fires changed over time? (rows 1,2)"
   ]
  },
  {
   "cell_type": "code",
   "execution_count": null,
   "metadata": {},
   "outputs": [],
   "source": []
  },
  {
   "cell_type": "markdown",
   "metadata": {},
   "source": [
    "*Sub-question 1a:* What is the average size of a fire each year?"
   ]
  },
  {
   "cell_type": "markdown",
   "metadata": {},
   "source": [
    "*Sub-question 1b:* How has the number of class G fires (the largest) changed over the years?"
   ]
  },
  {
   "cell_type": "markdown",
   "metadata": {},
   "source": [
    "*Sub-question 1c:* What is the proportion of fires that are class A (the smallest) each year?"
   ]
  },
  {
   "cell_type": "markdown",
   "metadata": {},
   "source": [
    "**Question 2:** How has the location of the fires changed over time? (rows 3,4)"
   ]
  },
  {
   "cell_type": "code",
   "execution_count": null,
   "metadata": {},
   "outputs": [],
   "source": []
  },
  {
   "cell_type": "markdown",
   "metadata": {},
   "source": [
    "*Sub-question 2a:* How has the average position of the fires changed over time?"
   ]
  },
  {
   "cell_type": "markdown",
   "metadata": {},
   "source": [
    "*Sub-question 2b:* For each state, in what years did it have at least 4000 wildfires?"
   ]
  },
  {
   "cell_type": "markdown",
   "metadata": {},
   "source": [
    "*Sub-question 2c:* What proportion of fires were in California each year?"
   ]
  },
  {
   "cell_type": "markdown",
   "metadata": {},
   "source": [
    "**Question 3:** How do the causes of the fires vary by location? (rows 5,6)"
   ]
  },
  {
   "cell_type": "code",
   "execution_count": null,
   "metadata": {},
   "outputs": [],
   "source": []
  },
  {
   "cell_type": "markdown",
   "metadata": {},
   "source": [
    "*Sub-question 3a:* What's the most common cause of fire in each state? (This is much easier if you are familiar with `df.pivot_table` or `df.pivot`, although it is doable without both of them.)"
   ]
  },
  {
   "cell_type": "markdown",
   "metadata": {},
   "source": [
    "*Sub-question 3b:* Which states have more fires from lightning than arson?"
   ]
  },
  {
   "cell_type": "markdown",
   "metadata": {},
   "source": [
    "*Sub-question 3c:* What is the proportion of fires in each state that is caused by children? (These are labeled 'Children' in `STAT_CAUSE_DESCR`)"
   ]
  }
 ],
 "metadata": {
  "kernelspec": {
   "display_name": "Python 3",
   "language": "python",
   "name": "python3"
  },
  "language_info": {
   "codemirror_mode": {
    "name": "ipython",
    "version": 3
   },
   "file_extension": ".py",
   "mimetype": "text/x-python",
   "name": "python",
   "nbconvert_exporter": "python",
   "pygments_lexer": "ipython3",
   "version": "3.11.1 (main, Dec 23 2022, 09:25:23) [Clang 14.0.0 (clang-1400.0.29.202)]"
  },
  "vscode": {
   "interpreter": {
    "hash": "5c7b89af1651d0b8571dde13640ecdccf7d5a6204171d6ab33e7c296e100e08a"
   }
  }
 },
 "nbformat": 4,
 "nbformat_minor": 4
}
