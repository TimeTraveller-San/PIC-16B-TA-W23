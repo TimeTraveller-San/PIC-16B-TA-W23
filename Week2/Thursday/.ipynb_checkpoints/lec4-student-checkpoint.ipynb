{
 "cells": [
  {
   "cell_type": "markdown",
   "id": "clinical-kinase",
   "metadata": {},
   "source": [
    "- To follow along with this lecture, you will need to install the `plotly` package in your PIC16B Anaconda environment.\n",
    "\n",
    "- Also, if you get a blank screen, adding this has worked for at least one student in the past.\n",
    "\n",
    "```\n",
    "import plotly.io as pio \n",
    "\n",
    "pio.renderers.default= 'iframe'\n",
    "```\n",
    "\n",
    "- Reminder about Intro + project pitch, HW0, HW1.\n",
    "\n",
    "- Today: Interactive, geographic visualization using Plotly\n",
    "\n",
    "https://plotly.com/python/"
   ]
  },
  {
   "cell_type": "code",
   "execution_count": 11,
   "id": "f31371c6-f313-4bfb-8fea-02191c7ac2ce",
   "metadata": {},
   "outputs": [],
   "source": [
    "import pandas as pd\n",
    "from plotly import express as px\n",
    "import plotly.io as pio \n",
    "\n",
    "pio.renderers.default= 'iframe'"
   ]
  },
  {
   "cell_type": "markdown",
   "id": "71d8ec26-29d7-4c1d-913f-e7b73aa3a6fb",
   "metadata": {},
   "source": [
    "# scatter maps\n",
    "\n",
    "https://plotly.github.io/plotly.py-docs/generated/plotly.express.scatter_mapbox.html\n"
   ]
  },
  {
   "cell_type": "code",
   "execution_count": 12,
   "id": "similar-acting",
   "metadata": {},
   "outputs": [
    {
     "data": {
      "text/html": [
       "<div>\n",
       "<style scoped>\n",
       "    .dataframe tbody tr th:only-of-type {\n",
       "        vertical-align: middle;\n",
       "    }\n",
       "\n",
       "    .dataframe tbody tr th {\n",
       "        vertical-align: top;\n",
       "    }\n",
       "\n",
       "    .dataframe thead th {\n",
       "        text-align: right;\n",
       "    }\n",
       "</style>\n",
       "<table border=\"1\" class=\"dataframe\">\n",
       "  <thead>\n",
       "    <tr style=\"text-align: right;\">\n",
       "      <th></th>\n",
       "      <th>lon</th>\n",
       "      <th>lat</th>\n",
       "      <th>message</th>\n",
       "    </tr>\n",
       "  </thead>\n",
       "  <tbody>\n",
       "    <tr>\n",
       "      <th>0</th>\n",
       "      <td>-118.44301</td>\n",
       "      <td>34.069645</td>\n",
       "      <td>We are here!</td>\n",
       "    </tr>\n",
       "  </tbody>\n",
       "</table>\n",
       "</div>"
      ],
      "text/plain": [
       "         lon        lat       message\n",
       "0 -118.44301  34.069645  We are here!"
      ]
     },
     "execution_count": 12,
     "metadata": {},
     "output_type": "execute_result"
    }
   ],
   "source": [
    "coords = pd.DataFrame({\n",
    "    \"lon\" : [-118.44300984639733], \n",
    "    \"lat\" : [34.0696449790177],\n",
    "    \"message\" : [\"We are here!\"]\n",
    "})\n",
    "coords"
   ]
  },
  {
   "cell_type": "code",
   "execution_count": 16,
   "id": "underlying-orchestra",
   "metadata": {
    "scrolled": true
   },
   "outputs": [
    {
     "data": {
      "text/html": [
       "<iframe\n",
       "    scrolling=\"no\"\n",
       "    width=\"100%\"\n",
       "    height=\"545px\"\n",
       "    src=\"iframe_figures/figure_16.html\"\n",
       "    frameborder=\"0\"\n",
       "    allowfullscreen\n",
       "></iframe>\n"
      ]
     },
     "metadata": {},
     "output_type": "display_data"
    }
   ],
   "source": [
    "fig = px.scatter_mapbox(coords, 'lat', 'lon', hover_name=\"message\", mapbox_style=\"open-street-map\")\n",
    "\n",
    "fig.update_layout(margin={\"r\":0,\"t\":0,\"l\":0,\"b\":0})\n",
    "# fig.show()\n"
   ]
  },
  {
   "cell_type": "markdown",
   "id": "lyric-tuition",
   "metadata": {},
   "source": [
    "Let's break this down a bit. The first line imports the `express` module of `plotly`, which provides a high-level interface to a variety of Plotly tools. One can also work directly with the low-level `graph_objects` module, which allows one a finer level of control over the settings of visualizations. We won't use `graph_objects` in this course. \n",
    "\n",
    "The magic happens starting on the third line, when we call `px.scatter_mapbox()`. The first argument must be a data frame. The `lat` and `lon` arguments tell `px` which columns contain the latitude and longitude coordinates. The `hover_name` specifies what should appear when we hover over the plotted point with our mouse. `zoom` controls the initial zoom level of the map, which can subsequently be modified by the user. `height` allows one to control the aspect ratio. There are many [other parameters](https://plotly.github.io/plotly.py-docs/generated/plotly.express.scatter_mapbox.html) to `px.scatter_mapbox()`. \n",
    "\n",
    "The final next two lines control which *map tiles* are used in the visualization and the amount of whitespace around the visualization. The final line actually displays the map. \n",
    "\n",
    "Now let's try changing up the zoom level and the map tiles. The `positron` tiles from CartoDB are very low-contrast, which is very helpful when creating plots that use these tiles as backgrounds. "
   ]
  },
  {
   "cell_type": "code",
   "execution_count": null,
   "id": "golden-selling",
   "metadata": {},
   "outputs": [],
   "source": [
    "# different zoom level, use cartoDB tiles\n",
    "\n",
    "fig = px.scatter_mapbox(\n",
    "\n",
    ")\n",
    "\n",
    "fig.update_layout(margin={\"r\":0,\"t\":0,\"l\":0,\"b\":0})\n",
    "fig.show()"
   ]
  },
  {
   "cell_type": "markdown",
   "id": "hourly-crack",
   "metadata": {},
   "source": [
    "Maybe you dream of mountains, valleys, and beaches? "
   ]
  },
  {
   "cell_type": "code",
   "execution_count": null,
   "id": "several-practitioner",
   "metadata": {},
   "outputs": [],
   "source": [
    "# different zoom level, use Stamen Terrain tiles\n",
    "fig = px.scatter_mapbox(\n",
    "\n",
    ")\n",
    "\n",
    "fig.update_layout(margin={\"r\":0,\"t\":0,\"l\":0,\"b\":0})\n",
    "fig.show()"
   ]
  },
  {
   "cell_type": "markdown",
   "id": "durable-concert",
   "metadata": {},
   "source": [
    "Summing up, Plotly makes it unreasonably easy to create attractive, interactive maps in Python. Let's now go from \"pretty maps\" to \"informative, scientific data graphics.\" "
   ]
  },
  {
   "cell_type": "markdown",
   "id": "three-price",
   "metadata": {},
   "source": [
    "# Visualizing Climate Measurement Stations\n",
    "\n",
    "Let's now use our GHCN data on global temperatures to create some interesting visualizations. As a first step, we'll create a set of markers for different climate stations. First, let's grab the data on stations: "
   ]
  },
  {
   "cell_type": "code",
   "execution_count": null,
   "id": "seasonal-district",
   "metadata": {},
   "outputs": [],
   "source": [
    "import numpy as np\n",
    "\n",
    "#url = \"https://raw.githubusercontent.com/PhilChodrow/PIC16B/master/datasets/noaa-ghcn/station-metadata.csv\"\n",
    "stations = pd.read_csv(\"../sql/station-metadata.csv\")\n",
    "stations.head()"
   ]
  },
  {
   "cell_type": "markdown",
   "id": "several-differential",
   "metadata": {},
   "source": [
    "For the purposes of geographic plotting, the key columns here are the `LATITUDE` and `LONGITUDE` columns. Let's try plotting! \n",
    "\n",
    "Note that it might take a little while for the map to render. There are 27.5k points, which is kind of a lot! "
   ]
  },
  {
   "cell_type": "code",
   "execution_count": null,
   "id": "acoustic-stocks",
   "metadata": {},
   "outputs": [],
   "source": [
    "fig = px.scatter_mapbox(\n",
    "\n",
    ")\n",
    "\n",
    "fig.update_layout(mapbox_style=\"carto-positron\")\n",
    "fig.update_layout(margin={\"r\":0,\"t\":0,\"l\":0,\"b\":0})\n",
    "fig.show()"
   ]
  },
  {
   "cell_type": "markdown",
   "id": "demographic-mozambique",
   "metadata": {},
   "source": [
    "This is cool and interactive, but there are a few shortcomings if we want to display scientific information. It's hard to make comparisons -- for example, it looks like there might be a higher density of stations in the US than in many other areas, but it's hard to be sure from the map above. For comparing densities, *heatmaps* provided a useful approach. Ploty again makes this unreasonably easy. "
   ]
  },
  {
   "cell_type": "code",
   "execution_count": null,
   "id": "several-mission",
   "metadata": {},
   "outputs": [],
   "source": [
    "fig = px.density_mapbox(\n",
    "\n",
    ")\n",
    "\n",
    "fig.update_layout(mapbox_style=\"carto-positron\")\n",
    "fig.update_layout(margin={\"r\":0,\"t\":0,\"l\":0,\"b\":0})\n",
    "fig.show()"
   ]
  },
  {
   "cell_type": "markdown",
   "id": "fiscal-jacob",
   "metadata": {},
   "source": [
    "The colors get brighter and more intense the more stations there are in that area. We can notice a few things, such as the very high density of measurement stations in the US and Germany. \n",
    "\n",
    "However, it's harder to see patterns when we zoom in much more. If we want to look at patterns within Europe, for example, we might want to increase the radius. \n",
    "\n",
    "Experimentation with the [various arguments](https://python-visualization.github.io/folium/plugins.html#folium.plugins.HeatMap) of the `HeatMap` function is usually necessary to obtain a good result. "
   ]
  },
  {
   "cell_type": "code",
   "execution_count": null,
   "id": "productive-oriental",
   "metadata": {},
   "outputs": [],
   "source": [
    "fig = px.density_mapbox(\n",
    "\n",
    ")\n",
    "\n",
    "fig.update_layout(mapbox_style=\"carto-positron\")\n",
    "fig.update_layout(margin={\"r\":0,\"t\":0,\"l\":0,\"b\":0})\n",
    "fig.show()"
   ]
  },
  {
   "cell_type": "markdown",
   "id": "patient-criticism",
   "metadata": {},
   "source": [
    "## Geographic Scatterplots\n",
    "\n",
    "Another thing we might want to do is color code the climate stations according to some quantitative measure. Let's compute the average temperature in January for each one over the most recent decade, and use this to color code them. "
   ]
  },
  {
   "cell_type": "code",
   "execution_count": null,
   "id": "289df44c-6940-4742-923e-054936fc797b",
   "metadata": {},
   "outputs": [],
   "source": [
    "# from group exercise last week\n",
    "import sqlite3\n",
    "conn = sqlite3.connect(\"../sql/temps.db\")\n",
    "\n",
    "cmd = \\\n",
    "\"\"\"\n",
    "SELECT SUBSTRING(S.id,1,2) country, S.name, ROUND(AVG(T.temp), 1) mean_temp, S.latitude, S.longitude\n",
    "FROM temperatures T\n",
    "LEFT JOIN stations S ON T.id = S.id\n",
    "WHERE (T.month = 1) AND (T.year BETWEEN 2011 AND 2020)\n",
    "GROUP BY S.name\n",
    "\"\"\"\n",
    "\n",
    "temp_per_country = pd.read_sql_query(cmd, conn)\n",
    "conn.close()"
   ]
  },
  {
   "cell_type": "code",
   "execution_count": null,
   "id": "fbfbb079-a41a-4bba-a11b-f2cf8881ab49",
   "metadata": {},
   "outputs": [],
   "source": [
    "temp_per_country #  averages of Jan temperatures from 2011 to 2020, per station"
   ]
  },
  {
   "cell_type": "markdown",
   "id": "rubber-shadow",
   "metadata": {},
   "source": [
    "Great! This is the data we need. Now we can supply this data to `px.scatter_mapbox`, using as the value of `color` the name variable that we want use to shade the points. "
   ]
  },
  {
   "cell_type": "code",
   "execution_count": null,
   "id": "small-revision",
   "metadata": {
    "scrolled": true
   },
   "outputs": [],
   "source": [
    "fig = px.scatter_mapbox(\n",
    "\n",
    ")\n",
    "\n",
    "fig.update_layout(margin={\"r\":0,\"t\":0,\"l\":0,\"b\":0})\n",
    "fig.show()"
   ]
  },
  {
   "cell_type": "markdown",
   "id": "after-material",
   "metadata": {},
   "source": [
    "This plot makes it easy to see that countries near the equator tend to be warmer (at least in March). "
   ]
  },
  {
   "cell_type": "markdown",
   "id": "future-import",
   "metadata": {},
   "source": [
    "# Saving and Sharing\n",
    "\n",
    "To save your visualization as HTML, just use `write_html` from `plotly.io`. "
   ]
  },
  {
   "cell_type": "code",
   "execution_count": null,
   "id": "pregnant-consensus",
   "metadata": {},
   "outputs": [],
   "source": [
    "from plotly.io import write_html\n",
    "write_html(fig, \"geo_scatter.html\")"
   ]
  },
  {
   "cell_type": "markdown",
   "id": "systematic-hazard",
   "metadata": {},
   "source": [
    "You can then send this file to people you'd like to impress! \n",
    "\n",
    "With quarto, these links will be helpful:\n",
    "- https://quarto.org/docs/interactive/widgets/jupyter.html#plotly\n",
    "- https://quarto.org/docs/get-started/computations/vscode.html"
   ]
  },
  {
   "cell_type": "markdown",
   "id": "outside-boston",
   "metadata": {},
   "source": [
    "# Choropleths\n",
    "\n",
    "A *choropleth* is a polygon-based visualization, in which different geographic polygons are assigned different colors. If you've ever seen a map of election results by state, or of CO2 emissions by country, you've seen a choropleth. \n",
    "\n",
    "Let's make one! We'll visualize the average January temperature for each country. We need two things: \n",
    "\n",
    "1. A data frame containing the average march temperature for each country. \n",
    "2. A GeoJSON file containing the coordinates for the country polygons. \n",
    "\n",
    "GeoJSON's are pretty complex files, but fortunately we don't really need to interact with them too much. The code below uses the `json` module to read a GeoJSON file from the web. This file contains the borders of countries. \n",
    "\n",
    "https://plotly.com/python/choropleth-maps/"
   ]
  },
  {
   "cell_type": "code",
   "execution_count": null,
   "id": "therapeutic-hostel",
   "metadata": {},
   "outputs": [],
   "source": [
    "from urllib.request import urlopen\n",
    "import json\n",
    "\n",
    "countries_gj_url = \"https://raw.githubusercontent.com/PhilChodrow/PIC16B/master/datasets/countries.geojson\"\n",
    "\n",
    "with urlopen(countries_gj_url) as response:\n",
    "    countries_gj = json.load(response)"
   ]
  },
  {
   "cell_type": "markdown",
   "id": "unique-academy",
   "metadata": {},
   "source": [
    "countries_gjGeoJSON files can be very complicated, and often contain large quantities of metadata. For our purposes, we only need the name of the country and the shape in coordinates, which is supplied by the `geometry` feature: "
   ]
  },
  {
   "cell_type": "code",
   "execution_count": null,
   "id": "d3c6d825-236b-4450-a41c-b4fef8ef0e18",
   "metadata": {},
   "outputs": [],
   "source": [
    "type(countries_gj), countries_gj.keys()"
   ]
  },
  {
   "cell_type": "code",
   "execution_count": null,
   "id": "6829de93-bff0-45c5-87f7-e6058b275836",
   "metadata": {},
   "outputs": [],
   "source": [
    "type(countries_gj['features']), len(countries_gj['features'])"
   ]
  },
  {
   "cell_type": "code",
   "execution_count": null,
   "id": "91e36a6a-1950-4d1d-b5da-4fc2bca73cc2",
   "metadata": {},
   "outputs": [],
   "source": [
    "type(countries_gj[\"features\"][1]), countries_gj[\"features\"][1].keys()"
   ]
  },
  {
   "cell_type": "code",
   "execution_count": null,
   "id": "0a0fbb3e-e87a-4708-b27e-947ec18c7a6b",
   "metadata": {},
   "outputs": [],
   "source": [
    "type(countries_gj[\"features\"][1]['properties']), countries_gj[\"features\"][1]['properties'].keys()"
   ]
  },
  {
   "cell_type": "code",
   "execution_count": null,
   "id": "proprietary-flashing",
   "metadata": {},
   "outputs": [],
   "source": [
    "countries_gj[\"features\"][1]"
   ]
  },
  {
   "cell_type": "code",
   "execution_count": null,
   "id": "d03ee6ee-bc29-4eb2-851e-7c5135e6947f",
   "metadata": {},
   "outputs": [],
   "source": [
    "len(countries_gj[\"features\"])"
   ]
  },
  {
   "cell_type": "markdown",
   "id": "ranking-raise",
   "metadata": {},
   "source": [
    "The next thing we need is temperature data and country names!"
   ]
  },
  {
   "cell_type": "code",
   "execution_count": null,
   "id": "9c8a1a63-0c7b-4705-8d1f-0dc91a716314",
   "metadata": {},
   "outputs": [],
   "source": [
    "temp_per_country # average Jan temp from 2011 to 2020, per country"
   ]
  },
  {
   "cell_type": "code",
   "execution_count": null,
   "id": "tutorial-trigger",
   "metadata": {},
   "outputs": [],
   "source": [
    "#countries_url = \"https://raw.githubusercontent.com/mysociety/gaze/master/data/fips-10-4-to-iso-country-codes.csv\"\n",
    "countries_code = pd.read_csv('../sql/countries.csv')\n",
    "\n",
    "countries_code"
   ]
  },
  {
   "cell_type": "code",
   "execution_count": null,
   "id": "3e701644-13e0-424f-98f0-2e2bab814da1",
   "metadata": {},
   "outputs": [],
   "source": [
    "# https://pandas.pydata.org/docs/reference/api/pandas.DataFrame.merge.html\n",
    "# this is the same as \n",
    "'''\n",
    "SELECT ...\n",
    "FROM countries_code\n",
    "INNER JOIN df ON countries_code.FIPS 10-4 = df.country\n",
    "'''\n",
    "\n",
    "\n",
    "countries_code = countries_code.merge(temp_per_country, \n",
    "                                      how='inner', \n",
    "                                      left_on='FIPS 10-4', \n",
    "                                      right_on='country')\n",
    "\n",
    "countries_code"
   ]
  },
  {
   "cell_type": "markdown",
   "id": "c053e664-a2b3-4e10-bd1b-f641b88593f7",
   "metadata": {},
   "source": [
    "\n",
    "\n",
    "And now we're done with our data prep! We now need to use px.choropleth to create the map. We need to pass the data frame of temperature data, the GeoJSON file, and some additional information.\n",
    "\n",
    "- `locations`: We need to indicate which column in march_avgs_by_country to use as the identifiers of countries.\n",
    "- `locationmode`: We need to specify that the values in the columns passed to locations are names of countries and not, say, FIPS ID codes.\n",
    "- `color`: We need to state which column should be used to determine the color of each country.\n",
    "\n"
   ]
  },
  {
   "cell_type": "code",
   "execution_count": null,
   "id": "unable-gravity",
   "metadata": {
    "tags": []
   },
   "outputs": [],
   "source": [
    "fig = px.choropleth(\n",
    "\n",
    ")\n",
    "\n",
    "fig.update_layout(margin={\"r\":0,\"t\":0,\"l\":0,\"b\":0})"
   ]
  },
  {
   "cell_type": "markdown",
   "id": "159c8c11-6665-4fd9-8ff0-ad552ffeaadd",
   "metadata": {},
   "source": [
    "## Paired exercise:\n",
    "\n",
    "Think back to your first days at UCLA. What are some information that would have been helpful for you? Describe at least one example for each type of (geographical) visualization that we've covered today. \n",
    "\n",
    "You can assume you have any data you need, and the scope can be as small as UCLA campus and as large as world. It can be silly or serious.\n",
    "\n",
    "For example,\n",
    "\n",
    "`scatter_mapbox`\n",
    "- Question: Where are the showers with the best water pressure on campus?\n",
    "- Each point corresponds to every shower, and the size of the point scales with the strength of the water pressure."
   ]
  },
  {
   "cell_type": "code",
   "execution_count": null,
   "id": "f81ef7a9-ce27-4d2d-965f-b51f216190ba",
   "metadata": {},
   "outputs": [],
   "source": []
  }
 ],
 "metadata": {
  "kernelspec": {
   "display_name": "Python 3 (ipykernel)",
   "language": "python",
   "name": "python3"
  },
  "language_info": {
   "codemirror_mode": {
    "name": "ipython",
    "version": 3
   },
   "file_extension": ".py",
   "mimetype": "text/x-python",
   "name": "python",
   "nbconvert_exporter": "python",
   "pygments_lexer": "ipython3",
   "version": "3.9.16"
  },
  "vscode": {
   "interpreter": {
    "hash": "6e6f8e20344c5f04a7eec9ea306da8be509b6d12a61dca7dc24c9a33598420eb"
   }
  },
  "widgets": {
   "application/vnd.jupyter.widget-state+json": {
    "state": {},
    "version_major": 2,
    "version_minor": 0
   }
  }
 },
 "nbformat": 4,
 "nbformat_minor": 5
}
