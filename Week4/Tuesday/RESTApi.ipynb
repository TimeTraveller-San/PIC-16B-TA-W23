{
 "cells": [
  {
   "cell_type": "markdown",
   "id": "56565e2a-782b-4456-b954-f04b18fcbbbb",
   "metadata": {},
   "source": [
    "## API"
   ]
  },
  {
   "cell_type": "markdown",
   "id": "1ae967a3-7bc4-40d9-9f83-71b406fa95ab",
   "metadata": {},
   "source": [
    "API is the acronym for Application Programming Interface, which is a software intermediary that allows two applications to talk to each other.\n"
   ]
  },
  {
   "cell_type": "markdown",
   "id": "3a61667f-d198-4e7a-bc5a-72e9f98b849b",
   "metadata": {},
   "source": [
    "One of the most popular ways to build APIs is the REST architecture style. Python provides some great tools not only to get data from REST APIs but also to build your own Python REST APIs."
   ]
  },
  {
   "cell_type": "markdown",
   "id": "8f5633b6-88b7-46c7-b467-aff3b2583bc5",
   "metadata": {},
   "source": [
    "What we will Learn today \n",
    "- What REST architecture is\n",
    "- How REST APIs provide access to web data\n",
    "- How to consume data from REST APIs using the requests library\n",
    "- What steps to take to build a REST API\n",
    "- What some popular Python tools are for building REST APIs"
   ]
  },
  {
   "cell_type": "markdown",
   "id": "904d9515-1fd5-40f1-9e88-d5bcc4ddaf11",
   "metadata": {},
   "source": [
    "## REST API"
   ]
  },
  {
   "cell_type": "markdown",
   "id": "2a0a9ef0-2401-4ee4-888f-ea80348a47a8",
   "metadata": {},
   "source": [
    "REST is a software architecture style that defines a pattern for client and server communications over a network. REST provides a set of constraints for software architecture to promote performance, scalability, simplicity, and reliability in the system.\n",
    "\n",
    "Example: https://api.github.com/users/ + username"
   ]
  },
  {
   "cell_type": "markdown",
   "id": "13988073-76af-4859-8fd3-20797e0f7eb1",
   "metadata": {},
   "source": [
    "## HTTP Methods"
   ]
  },
  {
   "cell_type": "markdown",
   "id": "0a8b6c9b-d9f9-413c-87b9-ced90c88ddbb",
   "metadata": {},
   "source": [
    "REST APIs listen for HTTP methods like GET, POST, and DELETE to know which operations to perform on the web service’s resources. A resource is any data available in the web service that can be accessed and manipulated with HTTP requests to the REST API. The HTTP method tells the API which action to perform on the resource."
   ]
  },
  {
   "cell_type": "markdown",
   "id": "f8b20f53-bd5a-41d5-9e9e-61335e7536bd",
   "metadata": {},
   "source": [
    "## Status Code"
   ]
  },
  {
   "cell_type": "markdown",
   "id": "ad5a7e78-c1d0-4920-a487-f73f7b88bb15",
   "metadata": {},
   "source": [
    "Once a REST API receives and processes an HTTP request, it will return an HTTP response. Included in this response is an HTTP status code.\n",
    "\n",
    "https://http.cat/\n",
    "\n",
    "https://www.restapitutorial.com/httpstatuscodes.html"
   ]
  },
  {
   "cell_type": "markdown",
   "id": "a4449046-cb08-429d-98cd-9708a978eb69",
   "metadata": {},
   "source": [
    "## API endpoints"
   ]
  },
  {
   "cell_type": "markdown",
   "id": "d5ec3d74-635f-4c5e-b57c-4ba0544840d4",
   "metadata": {},
   "source": [
    "A REST API exposes a set of public URLs that client applications use to access the resources of a web service."
   ]
  },
  {
   "cell_type": "markdown",
   "id": "81174ff6-4b3b-4040-809e-63faf51e057f",
   "metadata": {},
   "source": [
    " - /customers\n",
    " - /customers/customer_id"
   ]
  },
  {
   "cell_type": "markdown",
   "id": "e3d34b90-aac0-4e1c-b644-34b548df052c",
   "metadata": {},
   "source": [
    "## REST and Python"
   ]
  },
  {
   "cell_type": "markdown",
   "id": "e57c6f27-f14d-4432-a043-a0c28ba2cff9",
   "metadata": {},
   "source": [
    "To write code that interacts with REST APIs, most Python developers turn to requests to send HTTP requests. This library abstracts away the complexities of making HTTP requests. \n",
    "\n",
    "https://docs.python-requests.org/en/latest/\n",
    "\n",
    "https://buildmedia.readthedocs.org/media/pdf/requests/latest/requests.pdf\n"
   ]
  },
  {
   "cell_type": "code",
   "execution_count": 2,
   "id": "18576708-64c4-4687-907e-20e81c61e73c",
   "metadata": {},
   "outputs": [
    {
     "name": "stdout",
     "output_type": "stream",
     "text": [
      "Requirement already satisfied: requests in /Users/v/opt/anaconda3/lib/python3.8/site-packages (2.25.1)\n",
      "Requirement already satisfied: chardet<5,>=3.0.2 in /Users/v/opt/anaconda3/lib/python3.8/site-packages (from requests) (3.0.4)\n",
      "Requirement already satisfied: urllib3<1.27,>=1.21.1 in /Users/v/opt/anaconda3/lib/python3.8/site-packages (from requests) (1.26.4)\n",
      "Requirement already satisfied: certifi>=2017.4.17 in /Users/v/opt/anaconda3/lib/python3.8/site-packages (from requests) (2020.12.5)\n",
      "Requirement already satisfied: idna<3,>=2.5 in /Users/v/opt/anaconda3/lib/python3.8/site-packages (from requests) (2.10)\n"
     ]
    }
   ],
   "source": [
    "# !python -m pip install requests"
   ]
  },
  {
   "cell_type": "code",
   "execution_count": 2,
   "id": "d7fc3879-c902-4801-adb6-e95ff73af7e7",
   "metadata": {},
   "outputs": [],
   "source": [
    "import requests"
   ]
  },
  {
   "cell_type": "markdown",
   "id": "a119c5f3-15cd-4245-88f4-82e7de2ba8dc",
   "metadata": {},
   "source": [
    "## GET"
   ]
  },
  {
   "cell_type": "code",
   "execution_count": 6,
   "id": "5e2b3d58-7027-4630-a302-a8a3f384602a",
   "metadata": {},
   "outputs": [],
   "source": [
    "api_url = \"https://jsonplaceholder.typicode.com/todos/1\"\n",
    "response = requests.get(api_url)"
   ]
  },
  {
   "cell_type": "markdown",
   "id": "aa742e41",
   "metadata": {},
   "source": []
  },
  {
   "cell_type": "code",
   "execution_count": 11,
   "id": "3ad00d87-ef31-4d62-8791-165523a9fcd7",
   "metadata": {},
   "outputs": [
    {
     "name": "stdout",
     "output_type": "stream",
     "text": [
      "{'Date': 'Tue, 31 Jan 2023 22:23:00 GMT', 'Content-Type': 'application/json; charset=utf-8', 'Transfer-Encoding': 'chunked', 'Connection': 'keep-alive', 'X-Powered-By': 'Express', 'X-Ratelimit-Limit': '1000', 'X-Ratelimit-Remaining': '999', 'X-Ratelimit-Reset': '1675127791', 'Vary': 'Origin, Accept-Encoding', 'Access-Control-Allow-Credentials': 'true', 'Cache-Control': 'max-age=43200', 'Pragma': 'no-cache', 'Expires': '-1', 'X-Content-Type-Options': 'nosniff', 'Etag': 'W/\"53-hfEnumeNh6YirfjyjaujcOPPT+s\"', 'Via': '1.1 vegur', 'CF-Cache-Status': 'HIT', 'Age': '18373', 'Server-Timing': 'cf-q-config;dur=7.0000000960135e-06', 'Report-To': '{\"endpoints\":[{\"url\":\"https:\\\\/\\\\/a.nel.cloudflare.com\\\\/report\\\\/v3?s=WR94LIM6qKH6zw9NM4Qgahov%2Fm5QIJzNTK2yQUk0Sm1LATxo2e6KhOKYZnvGCi7bhJioP%2Bxb8lCwnj7QoyMfeHiPXi1l8zDGWuDPzW23XfQIoxQ82mECTnQvEfetAbtqwLVNF1qd1AZSZZ4CSeK1\"}],\"group\":\"cf-nel\",\"max_age\":604800}', 'NEL': '{\"success_fraction\":0,\"report_to\":\"cf-nel\",\"max_age\":604800}', 'Server': 'cloudflare', 'CF-RAY': '7925d96dac162b74-LAX', 'Content-Encoding': 'gzip', 'alt-svc': 'h3=\":443\"; ma=86400, h3-29=\":443\"; ma=86400'}\n"
     ]
    }
   ],
   "source": [
    "print(response.headers)"
   ]
  },
  {
   "cell_type": "code",
   "execution_count": 15,
   "id": "ea11cc92-8092-4208-915f-29de2012d97e",
   "metadata": {},
   "outputs": [],
   "source": [
    "# print(response.content)\n",
    "# print(response.text)\n",
    "# print(response.json())"
   ]
  },
  {
   "cell_type": "code",
   "execution_count": 17,
   "id": "da9e783a",
   "metadata": {},
   "outputs": [
    {
     "ename": "AssertionError",
     "evalue": "error message",
     "output_type": "error",
     "traceback": [
      "\u001b[0;31m---------------------------------------------------------------------------\u001b[0m",
      "\u001b[0;31mAssertionError\u001b[0m                            Traceback (most recent call last)",
      "\u001b[0;32m<ipython-input-17-05425e4ac566>\u001b[0m in \u001b[0;36m<module>\u001b[0;34m\u001b[0m\n\u001b[0;32m----> 1\u001b[0;31m \u001b[0;32massert\u001b[0m \u001b[0;36m1\u001b[0m\u001b[0;34m==\u001b[0m\u001b[0;36m2\u001b[0m\u001b[0;34m,\u001b[0m \u001b[0;34m\"error message\"\u001b[0m\u001b[0;34m\u001b[0m\u001b[0;34m\u001b[0m\u001b[0m\n\u001b[0m",
      "\u001b[0;31mAssertionError\u001b[0m: error message"
     ]
    }
   ],
   "source": [
    "assert 1==2, \"error message\""
   ]
  },
  {
   "cell_type": "code",
   "execution_count": 22,
   "id": "36b964de",
   "metadata": {},
   "outputs": [
    {
     "ename": "AssertionError",
     "evalue": "Failed with 404",
     "output_type": "error",
     "traceback": [
      "\u001b[0;31m---------------------------------------------------------------------------\u001b[0m",
      "\u001b[0;31mAssertionError\u001b[0m                            Traceback (most recent call last)",
      "\u001b[0;32m<ipython-input-22-2f4435751c60>\u001b[0m in \u001b[0;36m<module>\u001b[0;34m\u001b[0m\n\u001b[1;32m      6\u001b[0m     \u001b[0murl\u001b[0m \u001b[0;34m=\u001b[0m \u001b[0;34mf\"https://api.github.com/users/{username}\"\u001b[0m\u001b[0;34m\u001b[0m\u001b[0;34m\u001b[0m\u001b[0m\n\u001b[1;32m      7\u001b[0m     \u001b[0mresponse\u001b[0m \u001b[0;34m=\u001b[0m \u001b[0mrequests\u001b[0m\u001b[0;34m.\u001b[0m\u001b[0mget\u001b[0m\u001b[0;34m(\u001b[0m\u001b[0murl\u001b[0m\u001b[0;34m)\u001b[0m\u001b[0;34m\u001b[0m\u001b[0;34m\u001b[0m\u001b[0m\n\u001b[0;32m----> 8\u001b[0;31m     \u001b[0;32massert\u001b[0m \u001b[0mresponse\u001b[0m\u001b[0;34m.\u001b[0m\u001b[0mstatus_code\u001b[0m \u001b[0;34m==\u001b[0m \u001b[0;36m200\u001b[0m\u001b[0;34m,\u001b[0m \u001b[0;34mf\"Failed with {response.status_code}\"\u001b[0m\u001b[0;34m\u001b[0m\u001b[0;34m\u001b[0m\u001b[0m\n\u001b[0m\u001b[1;32m      9\u001b[0m     \u001b[0mcontent\u001b[0m \u001b[0;34m=\u001b[0m \u001b[0mresponse\u001b[0m\u001b[0;34m.\u001b[0m\u001b[0mjson\u001b[0m\u001b[0;34m(\u001b[0m\u001b[0;34m)\u001b[0m\u001b[0;34m\u001b[0m\u001b[0;34m\u001b[0m\u001b[0m\n\u001b[1;32m     10\u001b[0m     \u001b[0mprint\u001b[0m\u001b[0;34m(\u001b[0m\u001b[0mcontent\u001b[0m\u001b[0;34m)\u001b[0m\u001b[0;34m\u001b[0m\u001b[0;34m\u001b[0m\u001b[0m\n",
      "\u001b[0;31mAssertionError\u001b[0m: Failed with 404"
     ]
    }
   ],
   "source": [
    "usernames = [\n",
    "    # \"TimeTraveller-San\",\n",
    "    \"HarlinLeeeeeeee\"\n",
    "]\n",
    "for username in usernames:\n",
    "    url = f\"https://api.github.com/users/{username}\"\n",
    "    response = requests.get(url)\n",
    "    assert response.status_code == 200, f\"Failed with {response.status_code}\"\n",
    "    content = response.json()\n",
    "    print(content)"
   ]
  },
  {
   "cell_type": "code",
   "execution_count": 29,
   "id": "95018d07",
   "metadata": {},
   "outputs": [
    {
     "data": {
      "text/plain": [
       "[{'login': 'rohanvarma16',\n",
       "  'id': 1129395,\n",
       "  'node_id': 'MDQ6VXNlcjExMjkzOTU=',\n",
       "  'avatar_url': 'https://avatars.githubusercontent.com/u/1129395?v=4',\n",
       "  'gravatar_id': '',\n",
       "  'url': 'https://api.github.com/users/rohanvarma16',\n",
       "  'html_url': 'https://github.com/rohanvarma16',\n",
       "  'followers_url': 'https://api.github.com/users/rohanvarma16/followers',\n",
       "  'following_url': 'https://api.github.com/users/rohanvarma16/following{/other_user}',\n",
       "  'gists_url': 'https://api.github.com/users/rohanvarma16/gists{/gist_id}',\n",
       "  'starred_url': 'https://api.github.com/users/rohanvarma16/starred{/owner}{/repo}',\n",
       "  'subscriptions_url': 'https://api.github.com/users/rohanvarma16/subscriptions',\n",
       "  'organizations_url': 'https://api.github.com/users/rohanvarma16/orgs',\n",
       "  'repos_url': 'https://api.github.com/users/rohanvarma16/repos',\n",
       "  'events_url': 'https://api.github.com/users/rohanvarma16/events{/privacy}',\n",
       "  'received_events_url': 'https://api.github.com/users/rohanvarma16/received_events',\n",
       "  'type': 'User',\n",
       "  'site_admin': False},\n",
       " {'login': 'ysaibhargav',\n",
       "  'id': 2175542,\n",
       "  'node_id': 'MDQ6VXNlcjIxNzU1NDI=',\n",
       "  'avatar_url': 'https://avatars.githubusercontent.com/u/2175542?v=4',\n",
       "  'gravatar_id': '',\n",
       "  'url': 'https://api.github.com/users/ysaibhargav',\n",
       "  'html_url': 'https://github.com/ysaibhargav',\n",
       "  'followers_url': 'https://api.github.com/users/ysaibhargav/followers',\n",
       "  'following_url': 'https://api.github.com/users/ysaibhargav/following{/other_user}',\n",
       "  'gists_url': 'https://api.github.com/users/ysaibhargav/gists{/gist_id}',\n",
       "  'starred_url': 'https://api.github.com/users/ysaibhargav/starred{/owner}{/repo}',\n",
       "  'subscriptions_url': 'https://api.github.com/users/ysaibhargav/subscriptions',\n",
       "  'organizations_url': 'https://api.github.com/users/ysaibhargav/orgs',\n",
       "  'repos_url': 'https://api.github.com/users/ysaibhargav/repos',\n",
       "  'events_url': 'https://api.github.com/users/ysaibhargav/events{/privacy}',\n",
       "  'received_events_url': 'https://api.github.com/users/ysaibhargav/received_events',\n",
       "  'type': 'User',\n",
       "  'site_admin': False},\n",
       " {'login': 'fcondessa',\n",
       "  'id': 4808522,\n",
       "  'node_id': 'MDQ6VXNlcjQ4MDg1MjI=',\n",
       "  'avatar_url': 'https://avatars.githubusercontent.com/u/4808522?v=4',\n",
       "  'gravatar_id': '',\n",
       "  'url': 'https://api.github.com/users/fcondessa',\n",
       "  'html_url': 'https://github.com/fcondessa',\n",
       "  'followers_url': 'https://api.github.com/users/fcondessa/followers',\n",
       "  'following_url': 'https://api.github.com/users/fcondessa/following{/other_user}',\n",
       "  'gists_url': 'https://api.github.com/users/fcondessa/gists{/gist_id}',\n",
       "  'starred_url': 'https://api.github.com/users/fcondessa/starred{/owner}{/repo}',\n",
       "  'subscriptions_url': 'https://api.github.com/users/fcondessa/subscriptions',\n",
       "  'organizations_url': 'https://api.github.com/users/fcondessa/orgs',\n",
       "  'repos_url': 'https://api.github.com/users/fcondessa/repos',\n",
       "  'events_url': 'https://api.github.com/users/fcondessa/events{/privacy}',\n",
       "  'received_events_url': 'https://api.github.com/users/fcondessa/received_events',\n",
       "  'type': 'User',\n",
       "  'site_admin': False},\n",
       " {'login': 'abhi-iyer',\n",
       "  'id': 7843162,\n",
       "  'node_id': 'MDQ6VXNlcjc4NDMxNjI=',\n",
       "  'avatar_url': 'https://avatars.githubusercontent.com/u/7843162?v=4',\n",
       "  'gravatar_id': '',\n",
       "  'url': 'https://api.github.com/users/abhi-iyer',\n",
       "  'html_url': 'https://github.com/abhi-iyer',\n",
       "  'followers_url': 'https://api.github.com/users/abhi-iyer/followers',\n",
       "  'following_url': 'https://api.github.com/users/abhi-iyer/following{/other_user}',\n",
       "  'gists_url': 'https://api.github.com/users/abhi-iyer/gists{/gist_id}',\n",
       "  'starred_url': 'https://api.github.com/users/abhi-iyer/starred{/owner}{/repo}',\n",
       "  'subscriptions_url': 'https://api.github.com/users/abhi-iyer/subscriptions',\n",
       "  'organizations_url': 'https://api.github.com/users/abhi-iyer/orgs',\n",
       "  'repos_url': 'https://api.github.com/users/abhi-iyer/repos',\n",
       "  'events_url': 'https://api.github.com/users/abhi-iyer/events{/privacy}',\n",
       "  'received_events_url': 'https://api.github.com/users/abhi-iyer/received_events',\n",
       "  'type': 'User',\n",
       "  'site_admin': False},\n",
       " {'login': 'ByungjunKim',\n",
       "  'id': 7889473,\n",
       "  'node_id': 'MDQ6VXNlcjc4ODk0NzM=',\n",
       "  'avatar_url': 'https://avatars.githubusercontent.com/u/7889473?v=4',\n",
       "  'gravatar_id': '',\n",
       "  'url': 'https://api.github.com/users/ByungjunKim',\n",
       "  'html_url': 'https://github.com/ByungjunKim',\n",
       "  'followers_url': 'https://api.github.com/users/ByungjunKim/followers',\n",
       "  'following_url': 'https://api.github.com/users/ByungjunKim/following{/other_user}',\n",
       "  'gists_url': 'https://api.github.com/users/ByungjunKim/gists{/gist_id}',\n",
       "  'starred_url': 'https://api.github.com/users/ByungjunKim/starred{/owner}{/repo}',\n",
       "  'subscriptions_url': 'https://api.github.com/users/ByungjunKim/subscriptions',\n",
       "  'organizations_url': 'https://api.github.com/users/ByungjunKim/orgs',\n",
       "  'repos_url': 'https://api.github.com/users/ByungjunKim/repos',\n",
       "  'events_url': 'https://api.github.com/users/ByungjunKim/events{/privacy}',\n",
       "  'received_events_url': 'https://api.github.com/users/ByungjunKim/received_events',\n",
       "  'type': 'User',\n",
       "  'site_admin': False},\n",
       " {'login': 'ag8',\n",
       "  'id': 10122030,\n",
       "  'node_id': 'MDQ6VXNlcjEwMTIyMDMw',\n",
       "  'avatar_url': 'https://avatars.githubusercontent.com/u/10122030?v=4',\n",
       "  'gravatar_id': '',\n",
       "  'url': 'https://api.github.com/users/ag8',\n",
       "  'html_url': 'https://github.com/ag8',\n",
       "  'followers_url': 'https://api.github.com/users/ag8/followers',\n",
       "  'following_url': 'https://api.github.com/users/ag8/following{/other_user}',\n",
       "  'gists_url': 'https://api.github.com/users/ag8/gists{/gist_id}',\n",
       "  'starred_url': 'https://api.github.com/users/ag8/starred{/owner}{/repo}',\n",
       "  'subscriptions_url': 'https://api.github.com/users/ag8/subscriptions',\n",
       "  'organizations_url': 'https://api.github.com/users/ag8/orgs',\n",
       "  'repos_url': 'https://api.github.com/users/ag8/repos',\n",
       "  'events_url': 'https://api.github.com/users/ag8/events{/privacy}',\n",
       "  'received_events_url': 'https://api.github.com/users/ag8/received_events',\n",
       "  'type': 'User',\n",
       "  'site_admin': False},\n",
       " {'login': 'klieret',\n",
       "  'id': 13602468,\n",
       "  'node_id': 'MDQ6VXNlcjEzNjAyNDY4',\n",
       "  'avatar_url': 'https://avatars.githubusercontent.com/u/13602468?v=4',\n",
       "  'gravatar_id': '',\n",
       "  'url': 'https://api.github.com/users/klieret',\n",
       "  'html_url': 'https://github.com/klieret',\n",
       "  'followers_url': 'https://api.github.com/users/klieret/followers',\n",
       "  'following_url': 'https://api.github.com/users/klieret/following{/other_user}',\n",
       "  'gists_url': 'https://api.github.com/users/klieret/gists{/gist_id}',\n",
       "  'starred_url': 'https://api.github.com/users/klieret/starred{/owner}{/repo}',\n",
       "  'subscriptions_url': 'https://api.github.com/users/klieret/subscriptions',\n",
       "  'organizations_url': 'https://api.github.com/users/klieret/orgs',\n",
       "  'repos_url': 'https://api.github.com/users/klieret/repos',\n",
       "  'events_url': 'https://api.github.com/users/klieret/events{/privacy}',\n",
       "  'received_events_url': 'https://api.github.com/users/klieret/received_events',\n",
       "  'type': 'User',\n",
       "  'site_admin': False},\n",
       " {'login': 'jx291605427',\n",
       "  'id': 34341652,\n",
       "  'node_id': 'MDQ6VXNlcjM0MzQxNjUy',\n",
       "  'avatar_url': 'https://avatars.githubusercontent.com/u/34341652?v=4',\n",
       "  'gravatar_id': '',\n",
       "  'url': 'https://api.github.com/users/jx291605427',\n",
       "  'html_url': 'https://github.com/jx291605427',\n",
       "  'followers_url': 'https://api.github.com/users/jx291605427/followers',\n",
       "  'following_url': 'https://api.github.com/users/jx291605427/following{/other_user}',\n",
       "  'gists_url': 'https://api.github.com/users/jx291605427/gists{/gist_id}',\n",
       "  'starred_url': 'https://api.github.com/users/jx291605427/starred{/owner}{/repo}',\n",
       "  'subscriptions_url': 'https://api.github.com/users/jx291605427/subscriptions',\n",
       "  'organizations_url': 'https://api.github.com/users/jx291605427/orgs',\n",
       "  'repos_url': 'https://api.github.com/users/jx291605427/repos',\n",
       "  'events_url': 'https://api.github.com/users/jx291605427/events{/privacy}',\n",
       "  'received_events_url': 'https://api.github.com/users/jx291605427/received_events',\n",
       "  'type': 'User',\n",
       "  'site_admin': False},\n",
       " {'login': 'wangaxe',\n",
       "  'id': 37019320,\n",
       "  'node_id': 'MDQ6VXNlcjM3MDE5MzIw',\n",
       "  'avatar_url': 'https://avatars.githubusercontent.com/u/37019320?v=4',\n",
       "  'gravatar_id': '',\n",
       "  'url': 'https://api.github.com/users/wangaxe',\n",
       "  'html_url': 'https://github.com/wangaxe',\n",
       "  'followers_url': 'https://api.github.com/users/wangaxe/followers',\n",
       "  'following_url': 'https://api.github.com/users/wangaxe/following{/other_user}',\n",
       "  'gists_url': 'https://api.github.com/users/wangaxe/gists{/gist_id}',\n",
       "  'starred_url': 'https://api.github.com/users/wangaxe/starred{/owner}{/repo}',\n",
       "  'subscriptions_url': 'https://api.github.com/users/wangaxe/subscriptions',\n",
       "  'organizations_url': 'https://api.github.com/users/wangaxe/orgs',\n",
       "  'repos_url': 'https://api.github.com/users/wangaxe/repos',\n",
       "  'events_url': 'https://api.github.com/users/wangaxe/events{/privacy}',\n",
       "  'received_events_url': 'https://api.github.com/users/wangaxe/received_events',\n",
       "  'type': 'User',\n",
       "  'site_admin': False},\n",
       " {'login': 'leroybondhus',\n",
       "  'id': 43834879,\n",
       "  'node_id': 'MDQ6VXNlcjQzODM0ODc5',\n",
       "  'avatar_url': 'https://avatars.githubusercontent.com/u/43834879?v=4',\n",
       "  'gravatar_id': '',\n",
       "  'url': 'https://api.github.com/users/leroybondhus',\n",
       "  'html_url': 'https://github.com/leroybondhus',\n",
       "  'followers_url': 'https://api.github.com/users/leroybondhus/followers',\n",
       "  'following_url': 'https://api.github.com/users/leroybondhus/following{/other_user}',\n",
       "  'gists_url': 'https://api.github.com/users/leroybondhus/gists{/gist_id}',\n",
       "  'starred_url': 'https://api.github.com/users/leroybondhus/starred{/owner}{/repo}',\n",
       "  'subscriptions_url': 'https://api.github.com/users/leroybondhus/subscriptions',\n",
       "  'organizations_url': 'https://api.github.com/users/leroybondhus/orgs',\n",
       "  'repos_url': 'https://api.github.com/users/leroybondhus/repos',\n",
       "  'events_url': 'https://api.github.com/users/leroybondhus/events{/privacy}',\n",
       "  'received_events_url': 'https://api.github.com/users/leroybondhus/received_events',\n",
       "  'type': 'User',\n",
       "  'site_admin': False},\n",
       " {'login': 'Algernon2030',\n",
       "  'id': 48120910,\n",
       "  'node_id': 'MDQ6VXNlcjQ4MTIwOTEw',\n",
       "  'avatar_url': 'https://avatars.githubusercontent.com/u/48120910?v=4',\n",
       "  'gravatar_id': '',\n",
       "  'url': 'https://api.github.com/users/Algernon2030',\n",
       "  'html_url': 'https://github.com/Algernon2030',\n",
       "  'followers_url': 'https://api.github.com/users/Algernon2030/followers',\n",
       "  'following_url': 'https://api.github.com/users/Algernon2030/following{/other_user}',\n",
       "  'gists_url': 'https://api.github.com/users/Algernon2030/gists{/gist_id}',\n",
       "  'starred_url': 'https://api.github.com/users/Algernon2030/starred{/owner}{/repo}',\n",
       "  'subscriptions_url': 'https://api.github.com/users/Algernon2030/subscriptions',\n",
       "  'organizations_url': 'https://api.github.com/users/Algernon2030/orgs',\n",
       "  'repos_url': 'https://api.github.com/users/Algernon2030/repos',\n",
       "  'events_url': 'https://api.github.com/users/Algernon2030/events{/privacy}',\n",
       "  'received_events_url': 'https://api.github.com/users/Algernon2030/received_events',\n",
       "  'type': 'User',\n",
       "  'site_admin': False},\n",
       " {'login': 'yesterday409',\n",
       "  'id': 52266252,\n",
       "  'node_id': 'MDQ6VXNlcjUyMjY2MjUy',\n",
       "  'avatar_url': 'https://avatars.githubusercontent.com/u/52266252?v=4',\n",
       "  'gravatar_id': '',\n",
       "  'url': 'https://api.github.com/users/yesterday409',\n",
       "  'html_url': 'https://github.com/yesterday409',\n",
       "  'followers_url': 'https://api.github.com/users/yesterday409/followers',\n",
       "  'following_url': 'https://api.github.com/users/yesterday409/following{/other_user}',\n",
       "  'gists_url': 'https://api.github.com/users/yesterday409/gists{/gist_id}',\n",
       "  'starred_url': 'https://api.github.com/users/yesterday409/starred{/owner}{/repo}',\n",
       "  'subscriptions_url': 'https://api.github.com/users/yesterday409/subscriptions',\n",
       "  'organizations_url': 'https://api.github.com/users/yesterday409/orgs',\n",
       "  'repos_url': 'https://api.github.com/users/yesterday409/repos',\n",
       "  'events_url': 'https://api.github.com/users/yesterday409/events{/privacy}',\n",
       "  'received_events_url': 'https://api.github.com/users/yesterday409/received_events',\n",
       "  'type': 'User',\n",
       "  'site_admin': False},\n",
       " {'login': 'Huangy-Chen',\n",
       "  'id': 57628641,\n",
       "  'node_id': 'MDQ6VXNlcjU3NjI4NjQx',\n",
       "  'avatar_url': 'https://avatars.githubusercontent.com/u/57628641?v=4',\n",
       "  'gravatar_id': '',\n",
       "  'url': 'https://api.github.com/users/Huangy-Chen',\n",
       "  'html_url': 'https://github.com/Huangy-Chen',\n",
       "  'followers_url': 'https://api.github.com/users/Huangy-Chen/followers',\n",
       "  'following_url': 'https://api.github.com/users/Huangy-Chen/following{/other_user}',\n",
       "  'gists_url': 'https://api.github.com/users/Huangy-Chen/gists{/gist_id}',\n",
       "  'starred_url': 'https://api.github.com/users/Huangy-Chen/starred{/owner}{/repo}',\n",
       "  'subscriptions_url': 'https://api.github.com/users/Huangy-Chen/subscriptions',\n",
       "  'organizations_url': 'https://api.github.com/users/Huangy-Chen/orgs',\n",
       "  'repos_url': 'https://api.github.com/users/Huangy-Chen/repos',\n",
       "  'events_url': 'https://api.github.com/users/Huangy-Chen/events{/privacy}',\n",
       "  'received_events_url': 'https://api.github.com/users/Huangy-Chen/received_events',\n",
       "  'type': 'User',\n",
       "  'site_admin': False},\n",
       " {'login': 'xiexzh',\n",
       "  'id': 66163479,\n",
       "  'node_id': 'MDQ6VXNlcjY2MTYzNDc5',\n",
       "  'avatar_url': 'https://avatars.githubusercontent.com/u/66163479?v=4',\n",
       "  'gravatar_id': '',\n",
       "  'url': 'https://api.github.com/users/xiexzh',\n",
       "  'html_url': 'https://github.com/xiexzh',\n",
       "  'followers_url': 'https://api.github.com/users/xiexzh/followers',\n",
       "  'following_url': 'https://api.github.com/users/xiexzh/following{/other_user}',\n",
       "  'gists_url': 'https://api.github.com/users/xiexzh/gists{/gist_id}',\n",
       "  'starred_url': 'https://api.github.com/users/xiexzh/starred{/owner}{/repo}',\n",
       "  'subscriptions_url': 'https://api.github.com/users/xiexzh/subscriptions',\n",
       "  'organizations_url': 'https://api.github.com/users/xiexzh/orgs',\n",
       "  'repos_url': 'https://api.github.com/users/xiexzh/repos',\n",
       "  'events_url': 'https://api.github.com/users/xiexzh/events{/privacy}',\n",
       "  'received_events_url': 'https://api.github.com/users/xiexzh/received_events',\n",
       "  'type': 'User',\n",
       "  'site_admin': False},\n",
       " {'login': 'pinkoceann',\n",
       "  'id': 69375832,\n",
       "  'node_id': 'MDQ6VXNlcjY5Mzc1ODMy',\n",
       "  'avatar_url': 'https://avatars.githubusercontent.com/u/69375832?v=4',\n",
       "  'gravatar_id': '',\n",
       "  'url': 'https://api.github.com/users/pinkoceann',\n",
       "  'html_url': 'https://github.com/pinkoceann',\n",
       "  'followers_url': 'https://api.github.com/users/pinkoceann/followers',\n",
       "  'following_url': 'https://api.github.com/users/pinkoceann/following{/other_user}',\n",
       "  'gists_url': 'https://api.github.com/users/pinkoceann/gists{/gist_id}',\n",
       "  'starred_url': 'https://api.github.com/users/pinkoceann/starred{/owner}{/repo}',\n",
       "  'subscriptions_url': 'https://api.github.com/users/pinkoceann/subscriptions',\n",
       "  'organizations_url': 'https://api.github.com/users/pinkoceann/orgs',\n",
       "  'repos_url': 'https://api.github.com/users/pinkoceann/repos',\n",
       "  'events_url': 'https://api.github.com/users/pinkoceann/events{/privacy}',\n",
       "  'received_events_url': 'https://api.github.com/users/pinkoceann/received_events',\n",
       "  'type': 'User',\n",
       "  'site_admin': False},\n",
       " {'login': 'pauldebdeep9',\n",
       "  'id': 78953239,\n",
       "  'node_id': 'MDQ6VXNlcjc4OTUzMjM5',\n",
       "  'avatar_url': 'https://avatars.githubusercontent.com/u/78953239?v=4',\n",
       "  'gravatar_id': '',\n",
       "  'url': 'https://api.github.com/users/pauldebdeep9',\n",
       "  'html_url': 'https://github.com/pauldebdeep9',\n",
       "  'followers_url': 'https://api.github.com/users/pauldebdeep9/followers',\n",
       "  'following_url': 'https://api.github.com/users/pauldebdeep9/following{/other_user}',\n",
       "  'gists_url': 'https://api.github.com/users/pauldebdeep9/gists{/gist_id}',\n",
       "  'starred_url': 'https://api.github.com/users/pauldebdeep9/starred{/owner}{/repo}',\n",
       "  'subscriptions_url': 'https://api.github.com/users/pauldebdeep9/subscriptions',\n",
       "  'organizations_url': 'https://api.github.com/users/pauldebdeep9/orgs',\n",
       "  'repos_url': 'https://api.github.com/users/pauldebdeep9/repos',\n",
       "  'events_url': 'https://api.github.com/users/pauldebdeep9/events{/privacy}',\n",
       "  'received_events_url': 'https://api.github.com/users/pauldebdeep9/received_events',\n",
       "  'type': 'User',\n",
       "  'site_admin': False},\n",
       " {'login': 'Padenshoe',\n",
       "  'id': 99508734,\n",
       "  'node_id': 'U_kgDOBe5h_g',\n",
       "  'avatar_url': 'https://avatars.githubusercontent.com/u/99508734?v=4',\n",
       "  'gravatar_id': '',\n",
       "  'url': 'https://api.github.com/users/Padenshoe',\n",
       "  'html_url': 'https://github.com/Padenshoe',\n",
       "  'followers_url': 'https://api.github.com/users/Padenshoe/followers',\n",
       "  'following_url': 'https://api.github.com/users/Padenshoe/following{/other_user}',\n",
       "  'gists_url': 'https://api.github.com/users/Padenshoe/gists{/gist_id}',\n",
       "  'starred_url': 'https://api.github.com/users/Padenshoe/starred{/owner}{/repo}',\n",
       "  'subscriptions_url': 'https://api.github.com/users/Padenshoe/subscriptions',\n",
       "  'organizations_url': 'https://api.github.com/users/Padenshoe/orgs',\n",
       "  'repos_url': 'https://api.github.com/users/Padenshoe/repos',\n",
       "  'events_url': 'https://api.github.com/users/Padenshoe/events{/privacy}',\n",
       "  'received_events_url': 'https://api.github.com/users/Padenshoe/received_events',\n",
       "  'type': 'User',\n",
       "  'site_admin': False},\n",
       " {'login': 'aieveryday',\n",
       "  'id': 113126950,\n",
       "  'node_id': 'U_kgDOBr4uJg',\n",
       "  'avatar_url': 'https://avatars.githubusercontent.com/u/113126950?v=4',\n",
       "  'gravatar_id': '',\n",
       "  'url': 'https://api.github.com/users/aieveryday',\n",
       "  'html_url': 'https://github.com/aieveryday',\n",
       "  'followers_url': 'https://api.github.com/users/aieveryday/followers',\n",
       "  'following_url': 'https://api.github.com/users/aieveryday/following{/other_user}',\n",
       "  'gists_url': 'https://api.github.com/users/aieveryday/gists{/gist_id}',\n",
       "  'starred_url': 'https://api.github.com/users/aieveryday/starred{/owner}{/repo}',\n",
       "  'subscriptions_url': 'https://api.github.com/users/aieveryday/subscriptions',\n",
       "  'organizations_url': 'https://api.github.com/users/aieveryday/orgs',\n",
       "  'repos_url': 'https://api.github.com/users/aieveryday/repos',\n",
       "  'events_url': 'https://api.github.com/users/aieveryday/events{/privacy}',\n",
       "  'received_events_url': 'https://api.github.com/users/aieveryday/received_events',\n",
       "  'type': 'User',\n",
       "  'site_admin': False}]"
      ]
     },
     "execution_count": 29,
     "metadata": {},
     "output_type": "execute_result"
    }
   ],
   "source": [
    "import json\n",
    "\n",
    "\n",
    "usernames = [\n",
    "    \"TimeTraveller-San\",\n",
    "    \"HarlinLee\"\n",
    "]\n",
    "for username in usernames:\n",
    "    url = f\"https://api.github.com/users/{username}/followers\"\n",
    "    response = requests.get(url)\n",
    "    assert response.status_code == 200, f\"Failed with {response.status_code}\"\n",
    "    content = response.json()\n",
    "    with open(f'{username}.json', 'w', encoding='utf-8') as f:\n",
    "        json.dump(response.json(), f, ensure_ascii=False, indent=4)    \n",
    "content"
   ]
  },
  {
   "cell_type": "code",
   "execution_count": null,
   "id": "4105c69d",
   "metadata": {},
   "outputs": [],
   "source": []
  },
  {
   "cell_type": "code",
   "execution_count": 35,
   "id": "607097dd",
   "metadata": {},
   "outputs": [
    {
     "name": "stdout",
     "output_type": "stream",
     "text": [
      "https://jsonplaceholder.typicode.com/comments/?postId=2&userId=8\n"
     ]
    },
    {
     "data": {
      "text/plain": [
       "[{'postId': 2,\n",
       "  'id': 6,\n",
       "  'name': 'et fugit eligendi deleniti quidem qui sint nihil autem',\n",
       "  'email': 'Presley.Mueller@myrl.com',\n",
       "  'body': 'doloribus at sed quis culpa deserunt consectetur qui praesentium\\naccusamus fugiat dicta\\nvoluptatem rerum ut voluptate autem\\nvoluptatem repellendus aspernatur dolorem in'},\n",
       " {'postId': 2,\n",
       "  'id': 7,\n",
       "  'name': 'repellat consequatur praesentium vel minus molestias voluptatum',\n",
       "  'email': 'Dallas@ole.me',\n",
       "  'body': 'maiores sed dolores similique labore et inventore et\\nquasi temporibus esse sunt id et\\neos voluptatem aliquam\\naliquid ratione corporis molestiae mollitia quia et magnam dolor'},\n",
       " {'postId': 2,\n",
       "  'id': 8,\n",
       "  'name': 'et omnis dolorem',\n",
       "  'email': 'Mallory_Kunze@marie.org',\n",
       "  'body': 'ut voluptatem corrupti velit\\nad voluptatem maiores\\net nisi velit vero accusamus maiores\\nvoluptates quia aliquid ullam eaque'},\n",
       " {'postId': 2,\n",
       "  'id': 9,\n",
       "  'name': 'provident id voluptas',\n",
       "  'email': 'Meghan_Littel@rene.us',\n",
       "  'body': 'sapiente assumenda molestiae atque\\nadipisci laborum distinctio aperiam et ab ut omnis\\net occaecati aspernatur odit sit rem expedita\\nquas enim ipsam minus'},\n",
       " {'postId': 2,\n",
       "  'id': 10,\n",
       "  'name': 'eaque et deleniti atque tenetur ut quo ut',\n",
       "  'email': 'Carmen_Keeling@caroline.name',\n",
       "  'body': 'voluptate iusto quis nobis reprehenderit ipsum amet nulla\\nquia quas dolores velit et non\\naut quia necessitatibus\\nnostrum quaerat nulla et accusamus nisi facilis'}]"
      ]
     },
     "execution_count": 35,
     "metadata": {},
     "output_type": "execute_result"
    }
   ],
   "source": [
    "import requests\n",
    "\n",
    "my_parameters = {\n",
    "    \"postId\":2, \n",
    "    \"userId\":8\n",
    "}\n",
    "\n",
    "response = requests.get(\"https://jsonplaceholder.typicode.com/comments/\", params=my_parameters)\n",
    "print(response.url)\n",
    "content = response.json()\n",
    "content"
   ]
  },
  {
   "cell_type": "code",
   "execution_count": 36,
   "id": "9077d944",
   "metadata": {},
   "outputs": [
    {
     "data": {
      "text/plain": [
       "{'Date': 'Tue, 31 Jan 2023 22:42:54 GMT', 'Content-Type': 'application/json; charset=utf-8', 'Transfer-Encoding': 'chunked', 'Connection': 'keep-alive', 'X-Powered-By': 'Express', 'X-Ratelimit-Limit': '1000', 'X-Ratelimit-Remaining': '999', 'X-Ratelimit-Reset': '1675205001', 'Vary': 'Origin, Accept-Encoding', 'Access-Control-Allow-Credentials': 'true', 'Cache-Control': 'max-age=43200', 'Pragma': 'no-cache', 'Expires': '-1', 'X-Content-Type-Options': 'nosniff', 'Etag': 'W/\"5fe-SNRxXTWeTmW/Q4d2qiV3mieyWj8\"', 'Content-Encoding': 'gzip', 'Via': '1.1 vegur', 'CF-Cache-Status': 'MISS', 'Server-Timing': 'cf-q-config;dur=7.0000000960135e-06', 'Report-To': '{\"endpoints\":[{\"url\":\"https:\\\\/\\\\/a.nel.cloudflare.com\\\\/report\\\\/v3?s=%2FC81nhfsvoGDwApDWWc6G1%2FOCX4ktJiDnezeNNHfTYTGIfxf6nvOQTjS5LejgSINtbKMSQAV1Ee1q2PvompjYdQFuVLPEBpGriqERGN9vkFabF%2FCr9RAIFuh8TUJcU7hbCszfJEctOcqHx6dvYuv\"}],\"group\":\"cf-nel\",\"max_age\":604800}', 'NEL': '{\"success_fraction\":0,\"report_to\":\"cf-nel\",\"max_age\":604800}', 'Server': 'cloudflare', 'CF-RAY': '7925f6906c182f39-LAX', 'alt-svc': 'h3=\":443\"; ma=86400, h3-29=\":443\"; ma=86400'}"
      ]
     },
     "execution_count": 36,
     "metadata": {},
     "output_type": "execute_result"
    }
   ],
   "source": [
    "response.headers"
   ]
  },
  {
   "cell_type": "code",
   "execution_count": 33,
   "id": "379d939f",
   "metadata": {},
   "outputs": [
    {
     "name": "stdout",
     "output_type": "stream",
     "text": [
      "https://github.com/TimeTraveller-San?tab=packages\n"
     ]
    }
   ],
   "source": [
    "# https://github.com/TimeTraveller-San?tab=packages\n",
    "\n",
    "import requests\n",
    "\n",
    "my_parameters = {\n",
    "    \"tab\":\"packages\"\n",
    "}\n",
    "# Note that this url is NOT an API, thus the response is a html webpage.\n",
    "response = requests.get(\"https://github.com/TimeTraveller-San\", params=my_parameters)\n",
    "print(response.url)\n",
    "# print(response.json())"
   ]
  },
  {
   "cell_type": "code",
   "execution_count": 34,
   "id": "c9981f37",
   "metadata": {},
   "outputs": [
    {
     "data": {
      "text/plain": [
       "{'Server': 'GitHub.com', 'Date': 'Tue, 31 Jan 2023 22:42:25 GMT', 'Content-Type': 'text/html; charset=utf-8', 'Vary': 'X-PJAX, X-PJAX-Container, Turbo-Visit, Turbo-Frame, Accept-Encoding, Accept, X-Requested-With', 'ETag': 'W/\"70387ab11c564362bcc8f148cff24340\"', 'Cache-Control': 'max-age=0, private, must-revalidate', 'Strict-Transport-Security': 'max-age=31536000; includeSubdomains; preload', 'X-Frame-Options': 'deny', 'X-Content-Type-Options': 'nosniff', 'X-XSS-Protection': '0', 'Referrer-Policy': 'origin-when-cross-origin, strict-origin-when-cross-origin', 'Content-Security-Policy': \"default-src 'none'; base-uri 'self'; block-all-mixed-content; child-src github.com/assets-cdn/worker/ gist.github.com/assets-cdn/worker/; connect-src 'self' uploads.github.com objects-origin.githubusercontent.com www.githubstatus.com collector.github.com raw.githubusercontent.com api.github.com github-cloud.s3.amazonaws.com github-production-repository-file-5c1aeb.s3.amazonaws.com github-production-upload-manifest-file-7fdce7.s3.amazonaws.com github-production-user-asset-6210df.s3.amazonaws.com cdn.optimizely.com logx.optimizely.com/v1/events *.actions.githubusercontent.com wss://*.actions.githubusercontent.com online.visualstudio.com/api/v1/locations github-production-repository-image-32fea6.s3.amazonaws.com github-production-release-asset-2e65be.s3.amazonaws.com insights.github.com wss://alive.github.com; font-src github.githubassets.com; form-action 'self' github.com gist.github.com objects-origin.githubusercontent.com; frame-ancestors 'none'; frame-src viewscreen.githubusercontent.com notebooks.githubusercontent.com; img-src 'self' data: github.githubassets.com media.githubusercontent.com camo.githubusercontent.com identicons.github.com avatars.githubusercontent.com github-cloud.s3.amazonaws.com objects.githubusercontent.com objects-origin.githubusercontent.com secured-user-images.githubusercontent.com/ opengraph.githubassets.com github-production-user-asset-6210df.s3.amazonaws.com customer-stories-feed.github.com spotlights-feed.github.com *.githubusercontent.com; manifest-src 'self'; media-src github.com user-images.githubusercontent.com/ secured-user-images.githubusercontent.com/; script-src github.githubassets.com; style-src 'unsafe-inline' github.githubassets.com; worker-src github.com/assets-cdn/worker/ gist.github.com/assets-cdn/worker/\", 'Content-Encoding': 'gzip', 'Set-Cookie': '_gh_sess=CZ%2BsqpUCgUkLAYL0UjE3gpX%2FvZGrWZPSRAnGtifLh0nACOmxoRlJYNJ4HPxz9IAaGBhF6XU8vVMbKh0oOi%2FcexYlEuPL9hwlZDbceBTuw5PN23PpNoCauwXNIiJkW4VsRh5CbTH2v91dF7nLuVLIxlesKf8Sv1Z1SVfEWt2MvwDMRmPP1FY7RN9QhFHbFp5dHDoTHh7ahPV4qoD%2Ftv5RX7V%2FVKsIPinY6Ha6mw%2BAZkF56bLYUKX9IehNxHsPTGmnZe9xIPR%2BrerAhZ3GrdY4EA%3D%3D--Q2DGfGb%2Bzieh77w%2B--Ke926EdkVAtjl69ut36QFg%3D%3D; Path=/; HttpOnly; Secure; SameSite=Lax, _octo=GH1.1.281530190.1675204945; Path=/; Domain=github.com; Expires=Wed, 31 Jan 2024 22:42:25 GMT; Secure; SameSite=Lax, logged_in=no; Path=/; Domain=github.com; Expires=Wed, 31 Jan 2024 22:42:25 GMT; HttpOnly; Secure; SameSite=Lax', 'Accept-Ranges': 'bytes', 'Transfer-Encoding': 'chunked', 'X-GitHub-Request-Id': '0C8A:7E32:161D04F:17C7CA2:63D99951'}"
      ]
     },
     "execution_count": 34,
     "metadata": {},
     "output_type": "execute_result"
    }
   ],
   "source": [
    "response.headers"
   ]
  },
  {
   "cell_type": "markdown",
   "id": "83263431-2d7d-46be-9717-b86d2669b3ef",
   "metadata": {},
   "source": [
    "## POST"
   ]
  },
  {
   "cell_type": "code",
   "execution_count": 37,
   "id": "c76413c7-d5f1-454b-9dde-8edb2f622777",
   "metadata": {},
   "outputs": [
    {
     "data": {
      "text/plain": [
       "{'args': {},\n",
       " 'data': '{\"username\": \"PIC16B\", \"password\": \"oi123ubhjasbd812e\"}',\n",
       " 'files': {},\n",
       " 'form': {},\n",
       " 'headers': {'Accept': '*/*',\n",
       "  'Accept-Encoding': 'gzip, deflate',\n",
       "  'Content-Length': '55',\n",
       "  'Content-Type': 'application/json',\n",
       "  'Host': 'httpbin.org',\n",
       "  'User-Agent': 'python-requests/2.25.1',\n",
       "  'X-Amzn-Trace-Id': 'Root=1-63d999de-4fe78683482d6fd2126d39c6'},\n",
       " 'json': {'password': 'oi123ubhjasbd812e', 'username': 'PIC16B'},\n",
       " 'origin': '131.179.60.163',\n",
       " 'url': 'https://httpbin.org/post'}"
      ]
     },
     "execution_count": 37,
     "metadata": {},
     "output_type": "execute_result"
    }
   ],
   "source": [
    "import json\n",
    "\n",
    "url = 'https://httpbin.org/post'\n",
    "headers = {\n",
    "    'Content-Type': 'application/json',\n",
    "}\n",
    "\n",
    "data = {\n",
    "    'username':'PIC16B',\n",
    "    'password':'oi123ubhjasbd812e'\n",
    "}\n",
    "\n",
    "response = requests.post(url, data=json.dumps(data), headers=headers)\n",
    "\n",
    "result = response.json()\n",
    "result"
   ]
  },
  {
   "cell_type": "code",
   "execution_count": null,
   "id": "d480b1c1",
   "metadata": {},
   "outputs": [],
   "source": [
    "# Read more: https://www.freecodecamp.org/news/how-to-interact-with-web-services-using-python/"
   ]
  }
 ],
 "metadata": {
  "kernelspec": {
   "display_name": "base",
   "language": "python",
   "name": "python3"
  },
  "language_info": {
   "codemirror_mode": {
    "name": "ipython",
    "version": 3
   },
   "file_extension": ".py",
   "mimetype": "text/x-python",
   "name": "python",
   "nbconvert_exporter": "python",
   "pygments_lexer": "ipython3",
   "version": "3.8.8"
  },
  "vscode": {
   "interpreter": {
    "hash": "6e6f8e20344c5f04a7eec9ea306da8be509b6d12a61dca7dc24c9a33598420eb"
   }
  }
 },
 "nbformat": 4,
 "nbformat_minor": 5
}
